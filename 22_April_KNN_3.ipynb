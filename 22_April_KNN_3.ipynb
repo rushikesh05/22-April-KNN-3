{
  "nbformat": 4,
  "nbformat_minor": 0,
  "metadata": {
    "colab": {
      "provenance": []
    },
    "kernelspec": {
      "name": "python3",
      "display_name": "Python 3"
    },
    "language_info": {
      "name": "python"
    }
  },
  "cells": [
    {
      "cell_type": "markdown",
      "source": [
        "\n",
        "##Q1. Write a Python code to implement the KNN classifier algorithm on load_iris dataset in sklearn.datasets.\n",
        "\n"
      ],
      "metadata": {
        "id": "ibA1urlbuVXo"
      }
    },
    {
      "cell_type": "code",
      "execution_count": 3,
      "metadata": {
        "colab": {
          "base_uri": "https://localhost:8080/"
        },
        "id": "DBp0EbaHuIm7",
        "outputId": "20e8a545-c7e2-4f0d-df28-5317db019f85"
      },
      "outputs": [
        {
          "output_type": "stream",
          "name": "stdout",
          "text": [
            "Accuracy: 1.0\n"
          ]
        }
      ],
      "source": [
        "# Import necessary libraries\n",
        "from sklearn.datasets import load_iris\n",
        "from sklearn.neighbors import KNeighborsClassifier\n",
        "from sklearn.model_selection import train_test_split\n",
        "from sklearn.metrics import accuracy_score\n",
        "\n",
        "# Load the dataset\n",
        "iris = load_iris()\n",
        "\n",
        "# Split the data into training and testing sets\n",
        "X_train, X_test, y_train, y_test = train_test_split(iris.data, iris.target, test_size=0.2, random_state=42)\n",
        "\n",
        "# Create a KNN classifier object\n",
        "knn = KNeighborsClassifier(n_neighbors=5)\n",
        "\n",
        "# Fit the model to the training data\n",
        "knn.fit(X_train, y_train)\n",
        "\n",
        "# Predict the classes of the test set\n",
        "y_pred = knn.predict(X_test)\n",
        "\n",
        "# Calculate the accuracy of the model\n",
        "accuracy = accuracy_score(y_test, y_pred)\n",
        "print('Accuracy:', accuracy)\n"
      ]
    },
    {
      "cell_type": "markdown",
      "source": [
        "##Q2. Write a Python code to implement the KNN regressor algorithm on load_boston dataset in sklearn.datasets.\n",
        "\n"
      ],
      "metadata": {
        "id": "hLh3WX6DupzL"
      }
    },
    {
      "cell_type": "code",
      "source": [
        "# Import necessary libraries\n",
        "import pandas as pd\n",
        "import numpy as np\n",
        "from sklearn.datasets import load_boston\n",
        "from sklearn.neighbors import KNeighborsRegressor\n",
        "from sklearn.model_selection import train_test_split\n",
        "from sklearn.metrics import mean_squared_error\n",
        "\n",
        "# Load the dataset\n",
        "boston = load_boston()\n",
        "\n",
        "# Split the data into training and testing sets\n",
        "X_train, X_test, y_train, y_test = train_test_split(boston.data, boston.target, test_size=0.2, random_state=42)\n",
        "\n",
        "# Create a KNN regressor object\n",
        "knn = KNeighborsRegressor(n_neighbors=5)\n",
        "\n",
        "# Fit the model to the training data\n",
        "knn.fit(X_train, y_train)\n",
        "\n",
        "# Predict the target values of the test set\n",
        "y_pred = knn.predict(X_test)\n",
        "\n",
        "# Calculate the mean squared error of the model\n",
        "mse = mean_squared_error(y_test, y_pred)\n",
        "print('Mean Squared Error:', mse)\n"
      ],
      "metadata": {
        "colab": {
          "base_uri": "https://localhost:8080/",
          "height": 1000
        },
        "id": "G16TTTv_uido",
        "outputId": "475d2dee-739e-40c5-9111-0a7c7021fee0"
      },
      "execution_count": 4,
      "outputs": [
        {
          "output_type": "error",
          "ename": "ImportError",
          "evalue": "ignored",
          "traceback": [
            "\u001b[0;31m---------------------------------------------------------------------------\u001b[0m",
            "\u001b[0;31mImportError\u001b[0m                               Traceback (most recent call last)",
            "\u001b[0;32m<ipython-input-4-fbe232391161>\u001b[0m in \u001b[0;36m<cell line: 4>\u001b[0;34m()\u001b[0m\n\u001b[1;32m      2\u001b[0m \u001b[0;32mimport\u001b[0m \u001b[0mpandas\u001b[0m \u001b[0;32mas\u001b[0m \u001b[0mpd\u001b[0m\u001b[0;34m\u001b[0m\u001b[0;34m\u001b[0m\u001b[0m\n\u001b[1;32m      3\u001b[0m \u001b[0;32mimport\u001b[0m \u001b[0mnumpy\u001b[0m \u001b[0;32mas\u001b[0m \u001b[0mnp\u001b[0m\u001b[0;34m\u001b[0m\u001b[0;34m\u001b[0m\u001b[0m\n\u001b[0;32m----> 4\u001b[0;31m \u001b[0;32mfrom\u001b[0m \u001b[0msklearn\u001b[0m\u001b[0;34m.\u001b[0m\u001b[0mdatasets\u001b[0m \u001b[0;32mimport\u001b[0m \u001b[0mload_boston\u001b[0m\u001b[0;34m\u001b[0m\u001b[0;34m\u001b[0m\u001b[0m\n\u001b[0m\u001b[1;32m      5\u001b[0m \u001b[0;32mfrom\u001b[0m \u001b[0msklearn\u001b[0m\u001b[0;34m.\u001b[0m\u001b[0mneighbors\u001b[0m \u001b[0;32mimport\u001b[0m \u001b[0mKNeighborsRegressor\u001b[0m\u001b[0;34m\u001b[0m\u001b[0;34m\u001b[0m\u001b[0m\n\u001b[1;32m      6\u001b[0m \u001b[0;32mfrom\u001b[0m \u001b[0msklearn\u001b[0m\u001b[0;34m.\u001b[0m\u001b[0mmodel_selection\u001b[0m \u001b[0;32mimport\u001b[0m \u001b[0mtrain_test_split\u001b[0m\u001b[0;34m\u001b[0m\u001b[0;34m\u001b[0m\u001b[0m\n",
            "\u001b[0;32m/usr/local/lib/python3.9/dist-packages/sklearn/datasets/__init__.py\u001b[0m in \u001b[0;36m__getattr__\u001b[0;34m(name)\u001b[0m\n\u001b[1;32m    154\u001b[0m             \"\"\"\n\u001b[1;32m    155\u001b[0m         )\n\u001b[0;32m--> 156\u001b[0;31m         \u001b[0;32mraise\u001b[0m \u001b[0mImportError\u001b[0m\u001b[0;34m(\u001b[0m\u001b[0mmsg\u001b[0m\u001b[0;34m)\u001b[0m\u001b[0;34m\u001b[0m\u001b[0;34m\u001b[0m\u001b[0m\n\u001b[0m\u001b[1;32m    157\u001b[0m     \u001b[0;32mtry\u001b[0m\u001b[0;34m:\u001b[0m\u001b[0;34m\u001b[0m\u001b[0;34m\u001b[0m\u001b[0m\n\u001b[1;32m    158\u001b[0m         \u001b[0;32mreturn\u001b[0m \u001b[0mglobals\u001b[0m\u001b[0;34m(\u001b[0m\u001b[0;34m)\u001b[0m\u001b[0;34m[\u001b[0m\u001b[0mname\u001b[0m\u001b[0;34m]\u001b[0m\u001b[0;34m\u001b[0m\u001b[0;34m\u001b[0m\u001b[0m\n",
            "\u001b[0;31mImportError\u001b[0m: \n`load_boston` has been removed from scikit-learn since version 1.2.\n\nThe Boston housing prices dataset has an ethical problem: as\ninvestigated in [1], the authors of this dataset engineered a\nnon-invertible variable \"B\" assuming that racial self-segregation had a\npositive impact on house prices [2]. Furthermore the goal of the\nresearch that led to the creation of this dataset was to study the\nimpact of air quality but it did not give adequate demonstration of the\nvalidity of this assumption.\n\nThe scikit-learn maintainers therefore strongly discourage the use of\nthis dataset unless the purpose of the code is to study and educate\nabout ethical issues in data science and machine learning.\n\nIn this special case, you can fetch the dataset from the original\nsource::\n\n    import pandas as pd\n    import numpy as np\n\n    data_url = \"http://lib.stat.cmu.edu/datasets/boston\"\n    raw_df = pd.read_csv(data_url, sep=\"\\s+\", skiprows=22, header=None)\n    data = np.hstack([raw_df.values[::2, :], raw_df.values[1::2, :2]])\n    target = raw_df.values[1::2, 2]\n\nAlternative datasets include the California housing dataset and the\nAmes housing dataset. You can load the datasets as follows::\n\n    from sklearn.datasets import fetch_california_housing\n    housing = fetch_california_housing()\n\nfor the California housing dataset and::\n\n    from sklearn.datasets import fetch_openml\n    housing = fetch_openml(name=\"house_prices\", as_frame=True)\n\nfor the Ames housing dataset.\n\n[1] M Carlisle.\n\"Racist data destruction?\"\n<https://medium.com/@docintangible/racist-data-destruction-113e3eff54a8>\n\n[2] Harrison Jr, David, and Daniel L. Rubinfeld.\n\"Hedonic housing prices and the demand for clean air.\"\nJournal of environmental economics and management 5.1 (1978): 81-102.\n<https://www.researchgate.net/publication/4974606_Hedonic_housing_prices_and_the_demand_for_clean_air>\n",
            "",
            "\u001b[0;31m---------------------------------------------------------------------------\u001b[0;32m\nNOTE: If your import is failing due to a missing package, you can\nmanually install dependencies using either !pip or !apt.\n\nTo view examples of installing some common dependencies, click the\n\"Open Examples\" button below.\n\u001b[0;31m---------------------------------------------------------------------------\u001b[0m\n"
          ],
          "errorDetails": {
            "actions": [
              {
                "action": "open_url",
                "actionText": "Open Examples",
                "url": "/notebooks/snippets/importing_libraries.ipynb"
              }
            ]
          }
        }
      ]
    },
    {
      "cell_type": "markdown",
      "source": [
        "##As of version 1.2, load_boston has been removed from scikit-learn. Here's a code that demonstrates the use of KNN regressor algorithm on the California Housing dataset instead:"
      ],
      "metadata": {
        "id": "xo2DjxSnvJ5P"
      }
    },
    {
      "cell_type": "code",
      "source": [
        "# Import necessary libraries\n",
        "from sklearn.datasets import fetch_california_housing\n",
        "from sklearn.neighbors import KNeighborsRegressor\n",
        "from sklearn.model_selection import train_test_split\n",
        "from sklearn.metrics import mean_squared_error\n",
        "\n",
        "# Load the dataset\n",
        "california_housing = fetch_california_housing(as_frame=True)\n",
        "X, y = california_housing.data, california_housing.target\n",
        "\n",
        "# Split the data into training and testing sets\n",
        "X_train, X_test, y_train, y_test = train_test_split(X, y, test_size=0.2, random_state=42)\n",
        "\n",
        "# Create a KNN regressor object\n",
        "knn = KNeighborsRegressor(n_neighbors=5)\n",
        "\n",
        "# Fit the model to the training data\n",
        "knn.fit(X_train, y_train)\n",
        "\n",
        "# Predict the target values of the test set\n",
        "y_pred = knn.predict(X_test)\n",
        "\n",
        "# Calculate the mean squared error of the model\n",
        "mse = mean_squared_error(y_test, y_pred)\n",
        "print('Mean Squared Error:', mse)\n"
      ],
      "metadata": {
        "colab": {
          "base_uri": "https://localhost:8080/"
        },
        "id": "wAtATGkiu21r",
        "outputId": "d94a472e-85d2-47c4-83cc-60df15514f04"
      },
      "execution_count": 5,
      "outputs": [
        {
          "output_type": "stream",
          "name": "stdout",
          "text": [
            "Mean Squared Error: 1.1186823858768293\n"
          ]
        }
      ]
    },
    {
      "cell_type": "markdown",
      "source": [
        "##Q3. Write a Python code snippet to find the optimal value of K for the KNN classifier algorithm using cross-validation on load_iris dataset in sklearn.datasets.\n",
        "\n"
      ],
      "metadata": {
        "id": "092bFSCPvq3p"
      }
    },
    {
      "cell_type": "code",
      "source": [
        "# Import necessary libraries\n",
        "from sklearn.datasets import load_iris\n",
        "from sklearn.neighbors import KNeighborsClassifier\n",
        "from sklearn.model_selection import cross_val_score\n",
        "\n",
        "# Load the dataset\n",
        "iris = load_iris()\n",
        "\n",
        "# Split the data into features and target variable\n",
        "X = iris.data\n",
        "y = iris.target\n",
        "\n",
        "# Define a list of K values to try\n",
        "k_values = list(range(1, 31))\n",
        "\n",
        "# Define an empty list to store the mean cross-validation scores for each K\n",
        "cv_scores = []\n",
        "\n",
        "# Loop through each K value\n",
        "for k in k_values:\n",
        "    # Create a KNN classifier object with the current K value\n",
        "    knn = KNeighborsClassifier(n_neighbors=k)\n",
        "    \n",
        "    # Use cross-validation to calculate the mean accuracy score of the KNN classifier\n",
        "    scores = cross_val_score(knn, X, y, cv=10, scoring='accuracy')\n",
        "    \n",
        "    # Append the mean accuracy score to the list of cv_scores\n",
        "    cv_scores.append(scores.mean())\n",
        "\n",
        "# Find the optimal value of K with the highest mean cross-validation score\n",
        "optimal_k = k_values[cv_scores.index(max(cv_scores))]\n",
        "\n",
        "# Print the optimal value of K\n",
        "print('Optimal K:', optimal_k)\n"
      ],
      "metadata": {
        "colab": {
          "base_uri": "https://localhost:8080/"
        },
        "id": "sRzbiyFtvl4u",
        "outputId": "ee390a47-efb0-4b9d-be61-2d941a6a4756"
      },
      "execution_count": 6,
      "outputs": [
        {
          "output_type": "stream",
          "name": "stdout",
          "text": [
            "Optimal K: 13\n"
          ]
        }
      ]
    },
    {
      "cell_type": "markdown",
      "source": [
        "##Q4. Implement the KNN regressor algorithm with feature scaling on load_boston dataset in sklearn.datasets.\n",
        "\n",
        "###As mentioned earlier, load_boston has been removed from scikit-learn since version 1.2. Here's a  code that demonstrates the use of KNN regressor algorithm with feature scaling on the California Housing dataset instead:"
      ],
      "metadata": {
        "id": "m2xCZI72wD0H"
      }
    },
    {
      "cell_type": "code",
      "source": [
        "# Import necessary libraries\n",
        "from sklearn.datasets import fetch_california_housing\n",
        "from sklearn.neighbors import KNeighborsRegressor\n",
        "from sklearn.model_selection import train_test_split\n",
        "from sklearn.preprocessing import StandardScaler\n",
        "from sklearn.metrics import mean_squared_error\n",
        "\n",
        "# Load the dataset\n",
        "california_housing = fetch_california_housing(as_frame=True)\n",
        "X, y = california_housing.data, california_housing.target\n",
        "\n",
        "# Split the data into training and testing sets\n",
        "X_train, X_test, y_train, y_test = train_test_split(X, y, test_size=0.2, random_state=42)\n",
        "\n",
        "# Scale the features using StandardScaler\n",
        "scaler = StandardScaler()\n",
        "X_train_scaled = scaler.fit_transform(X_train)\n",
        "X_test_scaled = scaler.transform(X_test)\n",
        "\n",
        "# Create a KNN regressor object\n",
        "knn = KNeighborsRegressor(n_neighbors=5)\n",
        "\n",
        "# Fit the model to the scaled training data\n",
        "knn.fit(X_train_scaled, y_train)\n",
        "\n",
        "# Predict the target values of the scaled test set\n",
        "y_pred = knn.predict(X_test_scaled)\n",
        "\n",
        "# Calculate the mean squared error of the model\n",
        "mse = mean_squared_error(y_test, y_pred)\n",
        "print('Mean Squared Error:', mse)\n"
      ],
      "metadata": {
        "colab": {
          "base_uri": "https://localhost:8080/"
        },
        "id": "90OOx_o_v2F9",
        "outputId": "d0f505bb-6bd5-4dc6-92fe-16852f2737db"
      },
      "execution_count": 7,
      "outputs": [
        {
          "output_type": "stream",
          "name": "stdout",
          "text": [
            "Mean Squared Error: 0.4324216146043236\n"
          ]
        }
      ]
    },
    {
      "cell_type": "markdown",
      "source": [
        "##Q5. Write a Python code snippet to implement the KNN classifier algorithm with weighted voting on load_iris dataset in sklearn.datasets.\n",
        "\n",
        "\n",
        "##Ans:--"
      ],
      "metadata": {
        "id": "3QdC-T9j4pxx"
      }
    },
    {
      "cell_type": "code",
      "source": [
        "# Import necessary libraries\n",
        "from sklearn.datasets import load_iris\n",
        "from sklearn.neighbors import KNeighborsClassifier\n",
        "from sklearn.model_selection import train_test_split\n",
        "from sklearn.preprocessing import StandardScaler\n",
        "from sklearn.metrics import accuracy_score\n",
        "\n",
        "# Load the dataset\n",
        "iris = load_iris()\n",
        "X, y = iris.data, iris.target\n",
        "\n",
        "# Split the data into training and testing sets\n",
        "X_train, X_test, y_train, y_test = train_test_split(X, y, test_size=0.2, random_state=42)\n",
        "\n",
        "# Scale the features using StandardScaler\n",
        "scaler = StandardScaler()\n",
        "X_train_scaled = scaler.fit_transform(X_train)\n",
        "X_test_scaled = scaler.transform(X_test)\n",
        "\n",
        "# Create a KNN classifier object with weighted voting\n",
        "knn = KNeighborsClassifier(n_neighbors=5, weights='distance')\n",
        "\n",
        "# Fit the model to the scaled training data\n",
        "knn.fit(X_train_scaled, y_train)\n",
        "\n",
        "# Predict the target values of the scaled test set\n",
        "y_pred = knn.predict(X_test_scaled)\n",
        "\n",
        "# Calculate the accuracy of the model\n",
        "accuracy = accuracy_score(y_test, y_pred)\n",
        "print('Accuracy:', accuracy)\n"
      ],
      "metadata": {
        "colab": {
          "base_uri": "https://localhost:8080/"
        },
        "id": "c9cDtq42xhDm",
        "outputId": "0c42ca46-c924-4efb-aea9-683926c55e66"
      },
      "execution_count": 8,
      "outputs": [
        {
          "output_type": "stream",
          "name": "stdout",
          "text": [
            "Accuracy: 1.0\n"
          ]
        }
      ]
    },
    {
      "cell_type": "markdown",
      "source": [
        "##Q6. Implement a function to standardise the features before applying KNN classifier.\n",
        "\n"
      ],
      "metadata": {
        "id": "veWBCkzJ5PiS"
      }
    },
    {
      "cell_type": "code",
      "source": [
        "import numpy as np\n",
        "from sklearn.preprocessing import StandardScaler\n",
        "from sklearn.neighbors import KNeighborsClassifier\n",
        "from sklearn.model_selection import train_test_split\n",
        "\n",
        "def knn_classifier_with_standardization(X, y, k, test_size):\n",
        "    # Standardize the features using z-score normalization\n",
        "    scaler = StandardScaler()\n",
        "    X = scaler.fit_transform(X)\n",
        "\n",
        "    # Split the dataset into training and test sets\n",
        "    X_train, X_test, y_train, y_test = train_test_split(X, y, test_size=test_size)\n",
        "\n",
        "    # Create a KNN classifier object and fit it on the training data\n",
        "    knn = KNeighborsClassifier(n_neighbors=k)\n",
        "    knn.fit(X_train, y_train)\n",
        "\n",
        "    # Evaluate the accuracy of the KNN classifier algorithm on the test data\n",
        "    accuracy = knn.score(X_test, y_test)\n",
        "\n",
        "    return accuracy\n"
      ],
      "metadata": {
        "id": "rzJrlgxx5Ef8"
      },
      "execution_count": 19,
      "outputs": []
    },
    {
      "cell_type": "code",
      "source": [
        "from sklearn.datasets import load_iris\n",
        "\n",
        "# Load the iris dataset\n",
        "iris = load_iris()\n",
        "\n",
        "# Extract the features and target variable\n",
        "X = iris.data\n",
        "y = iris.target\n",
        "\n",
        "# Apply the KNN classifier algorithm on the dataset after standardizing its features\n",
        "accuracy = knn_classifier_with_standardization(X, y, k=3, test_size=0.3)\n",
        "\n",
        "# Print the accuracy of the KNN classifier algorithm\n",
        "print(f\"Accuracy: {accuracy:.2f}\")\n"
      ],
      "metadata": {
        "colab": {
          "base_uri": "https://localhost:8080/"
        },
        "id": "S_edFmI8vPT_",
        "outputId": "2c986a99-14df-4b1b-9640-bfa8e0187635"
      },
      "execution_count": 20,
      "outputs": [
        {
          "output_type": "stream",
          "name": "stdout",
          "text": [
            "Accuracy: 0.93\n"
          ]
        }
      ]
    },
    {
      "cell_type": "markdown",
      "source": [
        "##Q7. Write a Python function to calculate the euclidean distance between two points."
      ],
      "metadata": {
        "id": "zubVu5KR6Gea"
      }
    },
    {
      "cell_type": "code",
      "source": [
        "import math\n",
        "\n",
        "def euclidean_distance(point1, point2):\n",
        "    # Calculate the squared differences between each coordinate\n",
        "    squared_differences = [(point1[i] - point2[i]) ** 2 for i in range(len(point1))]\n",
        "\n",
        "    # Calculate the sum of the squared differences\n",
        "    sum_squared_differences = sum(squared_differences)\n",
        "\n",
        "    # Calculate the square root of the sum of the squared differences\n",
        "    distance = math.sqrt(sum_squared_differences)\n",
        "\n",
        "    return distance\n"
      ],
      "metadata": {
        "id": "vk8o9VHY5nlr"
      },
      "execution_count": 10,
      "outputs": []
    },
    {
      "cell_type": "code",
      "source": [
        "from sklearn.datasets import load_iris\n",
        "\n",
        "iris = load_iris()\n",
        "\n",
        "# Select the first two samples in the dataset\n",
        "point1 = iris.data[0]\n",
        "point2 = iris.data[1]\n",
        "\n",
        "# Calculate the Euclidean distance between the two points\n",
        "distance = euclidean_distance(point1, point2)\n",
        "\n",
        "print(f\"The Euclidean distance between {point1} and {point2} is {distance:.2f}\")\n"
      ],
      "metadata": {
        "colab": {
          "base_uri": "https://localhost:8080/"
        },
        "id": "hR2rg4Ostkm8",
        "outputId": "96f020c3-e497-4192-8639-3aa39af73eb1"
      },
      "execution_count": 11,
      "outputs": [
        {
          "output_type": "stream",
          "name": "stdout",
          "text": [
            "The Euclidean distance between [5.1 3.5 1.4 0.2] and [4.9 3.  1.4 0.2] is 0.54\n"
          ]
        }
      ]
    },
    {
      "cell_type": "markdown",
      "source": [
        "##Q8. Write a Python function to calculate the manhattan distance between two points.\n",
        "\n"
      ],
      "metadata": {
        "id": "8Q3A3Y3XtTvj"
      }
    },
    {
      "cell_type": "code",
      "source": [
        "from typing import List\n",
        "\n",
        "def manhattan_distance(point1: List[float], point2: List[float]) -> float:\n",
        "    \"\"\"Calculates the Manhattan distance between two points in n-dimensional space.\n",
        "\n",
        "    Args:\n",
        "        point1: A list of floats representing the coordinates of the first point.\n",
        "        point2: A list of floats representing the coordinates of the second point.\n",
        "\n",
        "    Returns:\n",
        "        A float representing the Manhattan distance between the two points.\n",
        "    \"\"\"\n",
        "    # Calculate the absolute differences between each coordinate\n",
        "    absolute_differences = [abs(point1[i] - point2[i]) for i in range(len(point1))]\n",
        "\n",
        "    # Calculate the sum of the absolute differences\n",
        "    sum_absolute_differences = sum(absolute_differences)\n",
        "\n",
        "    return sum_absolute_differences\n"
      ],
      "metadata": {
        "id": "eUFEkKqG7b4a"
      },
      "execution_count": 12,
      "outputs": []
    },
    {
      "cell_type": "code",
      "source": [
        "from sklearn.datasets import load_iris\n",
        "\n",
        "iris = load_iris()\n",
        "\n",
        "# Select the first two samples in the dataset\n",
        "point1 = iris.data[0]\n",
        "point2 = iris.data[1]\n",
        "\n",
        "# Calculate the Manhattan distance between the two points\n",
        "distance = manhattan_distance(point1, point2)\n",
        "\n",
        "print(f\"The Manhattan distance between {point1} and {point2} is {distance:.2f}\")\n"
      ],
      "metadata": {
        "colab": {
          "base_uri": "https://localhost:8080/"
        },
        "id": "X2G6AbZptZmF",
        "outputId": "780f43c0-3212-472a-b84d-b8caf18e0fb6"
      },
      "execution_count": 13,
      "outputs": [
        {
          "output_type": "stream",
          "name": "stdout",
          "text": [
            "The Manhattan distance between [5.1 3.5 1.4 0.2] and [4.9 3.  1.4 0.2] is 0.70\n"
          ]
        }
      ]
    },
    {
      "cell_type": "code",
      "source": [],
      "metadata": {
        "id": "Uqwx4QgLt7oF"
      },
      "execution_count": null,
      "outputs": []
    }
  ]
}